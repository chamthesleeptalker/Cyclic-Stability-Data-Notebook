{
 "cells": [
  {
   "cell_type": "markdown",
   "metadata": {},
   "source": [
    "## Cycic Stability Data Processing Notebook\n",
    "\n",
    "This notebook should be able to do the following:\n",
    "1. Open cyclic stability data\n",
    "2. Convert to Table\n",
    "3. Generate Charge-Discharge graph with a specified period\n",
    "4. Count number of cycles\n",
    "5. Get Discharge Time of all cycles\n",
    "6. Compute Capacitance for all cycles\n",
    "    - Different capacitance computation for two-electrode symmetric, two-electrode asymmetric and three-electrodde cell configuration.\n",
    "7. Compute Efficiency for all cycles\n",
    "8. Generate Capacitance VS Cycles Graph\n",
    "9. Generate Efficiency VS Cycles Graph\n",
    "\n",
    "The following will be the needed inputs:\n",
    "1. .oxw file\n",
    "2. Potential Window (V)\n",
    "3. Current Density Applied (A/g)\n",
    "4. Total mass of the material loading (g)"
   ]
  },
  {
   "cell_type": "markdown",
   "metadata": {},
   "source": [
    "### Inputs\n",
    "Specify inputs for data processing. Uncomment then Run all cells. :)\n",
    "\n",
    "1. path =r\"\"\n",
    "    - a string of your data file location.\n",
    "2. filename = \"\"\n",
    "    - name of the file including the extension\n",
    "3. filepath = path+\"\\/\"+filename\n",
    "    - mergin the path and the name in one string\n",
    "4. material_name = \"\"\n",
    "    - for the report at the end\n",
    "5. date_of_exp = \"03 25 18\"\n",
    "    - for the report at the end\n",
    "6. setup = \"two-electrode (symmetric)\"\n",
    "    - for the report at the end\n",
    "7. first_vertex_potential = -1\n",
    "    - you know this. The lower end of your potential window in V\n",
    "8. second_vertex_potential = 0.2\n",
    "     - you know this. The higher end of your potential window in V\n",
    "9. case_csp = 1\n",
    "    - we have two cases for computation,# 1: two_elec_sym and # 2: two_elec_asy and three_elec\n",
    "10. potential_window = abs(first_vertex_potential - second_vertex_potential)\n",
    "    - this is just computing for the potential window in V\n",
    "11. current_density = 2\n",
    "    - at what current densitty did you do your test? 2A/g, 5A/g\n",
    "12. total_mass_material_loading = 0.001\n",
    "    - your active material mass loading in g"
   ]
  },
  {
   "cell_type": "code",
   "execution_count": null,
   "metadata": {
    "collapsed": true
   },
   "outputs": [],
   "source": [
    "path =r\"\"\n",
    "filename = \"\"\n",
    "filepath = path+\"\\/\"+filename\n",
    "material_name = \"\"\n",
    "date_of_exp = \"05 25 18\"\n",
    "setup = \"two-electrode (symmetric)\"\n",
    "first_vertex_potential = -1\n",
    "second_vertex_potential = 0.2\n",
    "case_csp = 1\n",
    "potential_window = abs(first_vertex_potential - second_vertex_potential)\n",
    "current_density = 2\n",
    "total_mass_material_loading = 0.001"
   ]
  },
  {
   "cell_type": "markdown",
   "metadata": {},
   "source": [
    "### Open file input\n",
    "\n",
    "Here we're just opening the file and gettting the data columns. We store each line of text in a list with this format [time,potential]."
   ]
  },
  {
   "cell_type": "code",
   "execution_count": null,
   "metadata": {
    "collapsed": true
   },
   "outputs": [],
   "source": [
    "import numpy as np\n",
    "#final time,potential array output\n",
    "np_f_content=[]\n",
    "\n",
    "with open(filepath) as f:\n",
    "    content = [(x.strip('\\n')).strip() for x in f.readlines()][2:]\n",
    "    content_split = [(x.replace('  ',' ')).replace(' ',',') for x in content]\n",
    "    np_content = np.asarray(content_split)\n",
    "    np_f_content = np.empty([len(np_content),2])\n",
    "    \n",
    "    for i in range(len(np_content)):\n",
    "        np_content_split= np_content[i].split(',')\n",
    "        np_content_time = float(np_content_split[0])\n",
    "        np_content_v = float(np_content_split[1])\n",
    "        \n",
    "        # Here's our list\n",
    "        np_f_content[i] = np_content_time,np_content_v"
   ]
  },
  {
   "cell_type": "code",
   "execution_count": null,
   "metadata": {},
   "outputs": [],
   "source": [
    "import pandas as pd\n",
    "import matplotlib.pyplot as plt\n",
    "%matplotlib inline\n",
    "\n",
    "#Create a dataframe with the created list\n",
    "# Preview the first 1000 datapoints\n",
    "timeVpotential = pd.DataFrame(np_f_content[:1000],columns=[\"Time(s)\",\"Potential(V)\"])\n",
    "timeVpotential.plot(x=\"Time(s)\",y=\"Potential(V)\")"
   ]
  },
  {
   "cell_type": "markdown",
   "metadata": {},
   "source": [
    "## Get Discharge Times\n",
    "To compute the capacitance, we need to quantify the discharge times. We create a list of the positive/charge peaks and negative/discharge peaks. This will create a list of just the turning points(tps) of charge and discharge as we are interested in the time difference between the positive tp to the next negative tp which is our discharge time."
   ]
  },
  {
   "cell_type": "code",
   "execution_count": null,
   "metadata": {
    "collapsed": true
   },
   "outputs": [],
   "source": [
    "np_charge_discharge = []\n",
    "for i in range(len(np_f_content)):\n",
    "    potential_v = np_f_content[i][1]\n",
    "    time_s = np_f_content[i][0]\n",
    "    \n",
    "    #Get positive peaks\n",
    "    if(potential_v>second_vertex_potential): \n",
    "#         print(\"%f,%f\"%(time_s,potential_v))\n",
    "        np_charge_discharge.append([time_s,potential_v])\n",
    "    \n",
    "    #Get negative peaks\n",
    "    if(potential_v<first_vertex_potential):\n",
    "#         print(\"%f,%f\"%(time_s,potential_v))\n",
    "        np_charge_discharge.append([time_s,potential_v])"
   ]
  },
  {
   "cell_type": "code",
   "execution_count": null,
   "metadata": {
    "collapsed": true
   },
   "outputs": [],
   "source": [
    "np_charge_discharge_f = []\n",
    "\n",
    "for i in range(len(np_charge_discharge)-1):\n",
    "    \n",
    "    val = np_charge_discharge[i][1]\n",
    "    val1 = np_charge_discharge[i+1][1]\n",
    "    \n",
    "    time = np_charge_discharge[i][0]\n",
    "    time1 = np_charge_discharge[i+1][0]\n",
    "    \n",
    "    # get more positive value\n",
    "    if(val>second_vertex_potential):\n",
    "        if(val1>val):\n",
    "            continue\n",
    "        else:\n",
    "            np_charge_discharge_f.append([time,val])\n",
    "    else:\n",
    "    #get more negative\n",
    "        if(val1<val):\n",
    "            continue\n",
    "        else:\n",
    "            np_charge_discharge_f.append([time,val])\n",
    "\n",
    "np_charge_discharge_f.append(np_charge_discharge[-1])"
   ]
  },
  {
   "cell_type": "markdown",
   "metadata": {},
   "source": [
    "### Compute Discharge Time and Specific Capacitance\n",
    "\n",
    "We have two different ways to compute for the capacitance one is for a symmetric set-up and the other one is for an asymmetric set-up."
   ]
  },
  {
   "cell_type": "code",
   "execution_count": null,
   "metadata": {},
   "outputs": [],
   "source": [
    "number_of_cycles = len(np_charge_discharge_f)\n",
    "discharge_times = []\n",
    "\n",
    "# 1: two_elec_sym \n",
    "def two_elec_sym(discharge_time,current_density,total_mass_loading,potential_window):\n",
    "    num = 2.0*(current_density*total_mass_loading)*discharge_time\n",
    "    den = total_mass_loading*0.5*potential_window\n",
    "    csp = num/den\n",
    "    \n",
    "    return csp\n",
    "    \n",
    "# 2: two_elec_asy and three_elec\n",
    "def three_two_elec_asy(discharge_time,current_density,total_mass_loading,potential_window):\n",
    "    num = (current_density*total_mass_loading)*discharge_time\n",
    "    den = total_mass_loading*potential_window\n",
    "    csp = num/den\n",
    "    \n",
    "    return csp\n",
    "\n",
    "for i in range(0,number_of_cycles,2):\n",
    "    \n",
    "    time = np_charge_discharge_f[i][0]\n",
    "    time1 = np_charge_discharge_f[i+1][0]\n",
    "    discharge_time = time1-time\n",
    "    discharge_times.append(discharge_time)\n",
    "\n",
    "def compute_csp(discharge_time_list,case_csp):\n",
    "    csp_list = []\n",
    "    for i in range(len(discharge_time_list)):\n",
    "        if(case_csp == 1):\n",
    "            csp = two_elec_sym(discharge_time_list[i],current_density,total_mass_material_loading,potential_window)\n",
    "            csp_list.append([i+1,csp])\n",
    "        else:\n",
    "            csp = three_two_elec_asy(discharge_time_list[i],current_density,total_mass_material_loading,potential_window)\n",
    "            csp_list.append([i+1,csp])\n",
    "            \n",
    "    return csp_list\n",
    "\n",
    "computed_capacitance = (compute_csp(discharge_times,case_csp))\n",
    "\n",
    "np_csps = np.asarray(computed_capacitance)\n",
    "\n",
    "cspVcycle_number = pd.DataFrame(np_csps[:100],columns=[\"Cycle\",\"Csp\"])\n",
    "cspVcycle_number.plot(x=\"Cycle\",y=\"Csp\")\n",
    "\n",
    "computed_capacitance"
   ]
  },
  {
   "cell_type": "markdown",
   "metadata": {},
   "source": [
    "### Compute Efficiency\n",
    "\n",
    "We compute efficiency based on or relative to the initial computed capacitance."
   ]
  },
  {
   "cell_type": "code",
   "execution_count": null,
   "metadata": {},
   "outputs": [],
   "source": [
    "computed_efficiency = []\n",
    "\n",
    "def compute_eff(computed_capacitance):\n",
    "    initial_csp = computed_capacitance[0][1]\n",
    "    for i in range(len(computed_capacitance)):\n",
    "        comp_eff = 100-((initial_csp-computed_capacitance[i][1])*100/initial_csp)\n",
    "        computed_efficiency.append([i+1,comp_eff])\n",
    "    return computed_efficiency\n",
    "        \n",
    "computed_efficiency = (compute_eff(computed_capacitance))\n",
    "\n",
    "np_eff = np.asarray(computed_efficiency)\n",
    "\n",
    "effVcycle_number = pd.DataFrame(np_eff[:100],columns=[\"Cycle\",\"Efficiency\"])\n",
    "effVcycle_number.plot(x=\"Cycle\",y=\"Efficiency\")"
   ]
  },
  {
   "cell_type": "markdown",
   "metadata": {},
   "source": [
    "### Create Final Data Table\n",
    "Cycle Number, Discharge Time, Capacitance, Efficiency"
   ]
  },
  {
   "cell_type": "code",
   "execution_count": null,
   "metadata": {
    "collapsed": true
   },
   "outputs": [],
   "source": [
    "final_table=[]\n",
    "np_final_table=[]\n",
    "\n",
    "# cycle interval at which you want to output your file, here it's at every cycle\n",
    "intev = 1\n",
    "\n",
    "#string of that interval\n",
    "intev_t = \"1\"\n",
    "\n",
    "# print(len(discharge_times))\n",
    "for i in range(0,len(discharge_times),intev):\n",
    "    final_table.append([i,discharge_times[i],computed_capacitance[i][1],computed_efficiency[i][1]])\n",
    "\n",
    "np_final_table = np.asarray(final_table)\n",
    "final_dataframe = pd.DataFrame(np_final_table,columns=[\"Cycle\",\"Discharge Time\",\"Capacitance\",\"Efficiency\"])\n",
    "final_dataframe.to_csv(path+\"\\/\"+material_name+\"_\"+intev_t+\"_interval_\"+filename+\".txt\", header=None, index=None, sep=' ', mode='a')\n",
    "\n",
    "\n",
    "final_row_write=open(path+\"\\/\"+material_name+\"_\"+intev_t+\"_interval_\"+filename+\".txt\", \"a+\")\n",
    "\n",
    "final_row_write.write(\"%s %s %s %s\" % ('4000',discharge_times[-1],computed_capacitance[-1][1],computed_efficiency[-1][1]))\n",
    "\n",
    "final_row_write.close()"
   ]
  },
  {
   "cell_type": "markdown",
   "metadata": {},
   "source": [
    "### Print Final Report\n",
    "\n",
    "Aside from the processed cycle #, efficiency txt file, we also have this report which will be augmented everytime your run the notebook."
   ]
  },
  {
   "cell_type": "code",
   "execution_count": null,
   "metadata": {},
   "outputs": [],
   "source": [
    "print(\"Date of Experiment: %s\" % (date_of_exp))\n",
    "print(\"Material: %s\" % (material_name))\n",
    "print(\"Setup: %s\" % (setup))\n",
    "print(\"Current Density: %s A/g\" % (current_density))\n",
    "print(\"Initial Csp: %s F/g\" % (computed_capacitance[0][1]))\n",
    "print(\"Ending Csp: %s F/g\" % (computed_capacitance[len(computed_capacitance)-1][1]))\n",
    "print(\"Efficiency after 5000 cycles: %s\" % (computed_efficiency[-1][1]))"
   ]
  },
  {
   "cell_type": "code",
   "execution_count": null,
   "metadata": {
    "collapsed": true
   },
   "outputs": [],
   "source": [
    "import os.path\n",
    "\n",
    "final_rep_file = \"\"\n",
    "path_final_rep = os.path.isfile(r\"Filepath where you want your report to be created\")\n",
    "\n",
    "if (path_final_rep != True ):\n",
    "    final_rep_file= open(\"report.txt\",\"w+\")\n",
    "    final_rep_file.close()\n",
    "    \n",
    "final_rep_file=open(\"report.txt\", \"a+\")\n",
    "\n",
    "final_rep_file.write(\"%s, %s, %s, %s, %s, %s\" % (date_of_exp,material_name,setup,current_density,computed_capacitance[0][1],computed_efficiency[-1][1]))\n",
    "final_rep_file.write(\"\\n\")\n",
    "\n",
    "final_rep_file.close()"
   ]
  },
  {
   "cell_type": "code",
   "execution_count": null,
   "metadata": {
    "collapsed": true
   },
   "outputs": [],
   "source": []
  }
 ],
 "metadata": {
  "kernelspec": {
   "display_name": "Python 3",
   "language": "python",
   "name": "python3"
  },
  "language_info": {
   "codemirror_mode": {
    "name": "ipython",
    "version": 3
   },
   "file_extension": ".py",
   "mimetype": "text/x-python",
   "name": "python",
   "nbconvert_exporter": "python",
   "pygments_lexer": "ipython3",
   "version": "3.6.2"
  }
 },
 "nbformat": 4,
 "nbformat_minor": 2
}
